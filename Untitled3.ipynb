{
  "nbformat": 4,
  "nbformat_minor": 0,
  "metadata": {
    "colab": {
      "provenance": [],
      "authorship_tag": "ABX9TyM8yTqyn8KW9pQ6wPI4s+sQ",
      "include_colab_link": true
    },
    "kernelspec": {
      "name": "python3",
      "display_name": "Python 3"
    },
    "language_info": {
      "name": "python"
    }
  },
  "cells": [
    {
      "cell_type": "markdown",
      "metadata": {
        "id": "view-in-github",
        "colab_type": "text"
      },
      "source": [
        "<a href=\"https://colab.research.google.com/github/rgclapp007/auto-launch/blob/main/Untitled3.ipynb\" target=\"_parent\"><img src=\"https://colab.research.google.com/assets/colab-badge.svg\" alt=\"Open In Colab\"/></a>"
      ]
    },
    {
      "cell_type": "markdown",
      "source": [
        "Vectors\n",
        "\n"
      ],
      "metadata": {
        "id": "cBdFmICey5IN"
      }
    },
    {
      "cell_type": "code",
      "execution_count": 10,
      "metadata": {
        "id": "GGMJ048ny4eL"
      },
      "outputs": [],
      "source": [
        "from abc import ABC, abstractmethod\n",
        "\n",
        "class vector(ABC):\n",
        "  \"\"\"An abstract class for vectors for inverse problems\"\"\"\n",
        "  def __init__(self):\n",
        "    \"\"\"Default initializer for an abstract class\"\"\"\n",
        "    pass;\n",
        "\n",
        "  @abstractmethod\n",
        "  def check_same(self,vec2):\n",
        "    \"\"\"Check to see if another vector belongs to the\n",
        "       same vector space\n",
        "    \"\"\"\n",
        "\n",
        "  @abstractmethod\n",
        "  def add(self,vec2):\n",
        "    \"\"\"Add another vector to the current vector\"\"\"\n",
        "\n",
        "  @abstractmethod\n",
        "  def scale(self,sc:float):\n",
        "    \"\"\"Scale a vector by another vector\"\"\"\n",
        "\n",
        "  @abstractmethod\n",
        "  def scale_add(self,vec2,sc1:float=1,sc2:float=1):\n",
        "    \"\"\"Scale a vector by another vector, scaling both\"\"\"\n",
        "\n",
        "  @abstractmethod\n",
        "  def dot(self,vec2):\n",
        "    \"\"\"Calculate the dot product of a vector with the current vector\"\"\"\n",
        "\n",
        "  @abstractmethod\n",
        "  def clone(self):\n",
        "    \"\"\"Make a copy of the vector\"\"\"\n",
        "\n",
        "\n",
        "\n",
        "\n",
        "\n"
      ]
    },
    {
      "cell_type": "code",
      "source": [
        "class vec_1d(vector):\n",
        "  def __init__(self,n,o,d,vals=None):\n",
        "    self._n=n\n",
        "    self._o=o\n",
        "    self._d=d\n",
        "    if vals!=None:\n",
        "      if not isinstance(vals,np.ndarray):\n",
        "        raise Exception(\"Expecting vals to be a numpy array\")\n",
        "      if len(vals.shape)!=1:\n",
        "        raise Exception(\"Expecting a 1-D array\")\n",
        "      if vals.shape[0]!=self._n:\n",
        "        raise Exception(f\"Expecting the size of arr to be = {n}\")\n",
        "      self._arr=copy.deepcopy(arr)\n",
        "    else:\n",
        "      self._arr=np.zeros((self._n,))\n"
      ],
      "metadata": {
        "id": "QSyOtv7Q2mQe"
      },
      "execution_count": 13,
      "outputs": []
    },
    {
      "cell_type": "code",
      "source": [],
      "metadata": {
        "id": "yiB1SVIi2a-U"
      },
      "execution_count": null,
      "outputs": []
    }
  ]
}